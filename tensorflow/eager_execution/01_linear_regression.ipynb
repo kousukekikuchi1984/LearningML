{
 "cells": [
  {
   "cell_type": "code",
   "execution_count": 1,
   "metadata": {},
   "outputs": [
    {
     "data": {
      "text/plain": [
       "True"
      ]
     },
     "execution_count": 1,
     "metadata": {},
     "output_type": "execute_result"
    }
   ],
   "source": [
    "import tensorflow as tf\n",
    "import numpy as np\n",
    "import matplotlib.pyplot as plt\n",
    "%matplotlib inline\n",
    "\n",
    "tf.enable_eager_execution()\n",
    "tf.executing_eagerly()"
   ]
  },
  {
   "cell_type": "code",
   "execution_count": 2,
   "metadata": {},
   "outputs": [],
   "source": [
    "tfe = tf.contrib.eager\n",
    "L = tf.keras.layers"
   ]
  },
  {
   "cell_type": "code",
   "execution_count": 3,
   "metadata": {},
   "outputs": [
    {
     "name": "stdout",
     "output_type": "stream",
     "text": [
      "(15, 1)\n"
     ]
    }
   ],
   "source": [
    "x_train = np.array([[3.3], [4.4], [5.5], [6.71], [6.93], [4.168], \n",
    "                    [9.779], [6.182], [7.59], [2.167], [7.042], \n",
    "                    [10.791], [5.313], [7.997], [3.1]], dtype=np.float32)\n",
    "\n",
    "y_train = np.array([[1.7], [2.76], [2.09], [3.19], [1.694], [1.573], \n",
    "                    [3.366], [2.596], [2.53], [1.221], [2.827], \n",
    "                    [3.465], [1.65], [2.904], [1.3]], dtype=np.float32)\n",
    "\n",
    "print(x_train.shape)"
   ]
  },
  {
   "cell_type": "code",
   "execution_count": 4,
   "metadata": {},
   "outputs": [],
   "source": [
    "x_train_ = tf.convert_to_tensor(x_train)\n",
    "y_train_ = tf.convert_to_tensor(y_train)\n"
   ]
  },
  {
   "cell_type": "code",
   "execution_count": 5,
   "metadata": {},
   "outputs": [],
   "source": [
    "model = L.Dense(1)\n",
    "\n",
    "def loss_fn(model, x, y):\n",
    "    predict_y = model(x)\n",
    "    return tf.keras.losses.mean_squared_error(predict_y, y)\n",
    "\n",
    "optimizer = tf.train.GradientDescentOptimizer(learning_rate=0.0001)\n"
   ]
  },
  {
   "cell_type": "code",
   "execution_count": 6,
   "metadata": {},
   "outputs": [
    {
     "data": {
      "image/png": "[encoded data removed]",
      "text/plain": [
       "<Figure size 432x288 with 1 Axes>"
      ]
     },
     "metadata": {
      "needs_background": "light"
     },
     "output_type": "display_data"
    }
   ],
   "source": [
    "predicted = model(x_train_).numpy()\n",
    "plt.plot(x_train, y_train, 'ro', label=\"Original Data\")\n",
    "plt.plot(x_train, predicted, label=\"Fitted Line\")\n",
    "plt.legend()\n",
    "plt.show()"
   ]
  },
  {
   "cell_type": "code",
   "execution_count": 7,
   "metadata": {},
   "outputs": [
    {
     "name": "stdout",
     "output_type": "stream",
     "text": [
      "loss:  419.49127\n",
      "loss:  107.04103\n",
      "loss:  29.056465\n",
      "loss:  9.591009\n",
      "loss:  4.7310443\n",
      "loss:  3.516392\n",
      "loss:  3.2115638\n",
      "loss:  3.1338196\n",
      "loss:  3.1127589\n",
      "loss:  3.105852\n",
      "loss:  3.1024826\n",
      "loss:  3.1000044\n",
      "loss:  3.097754\n",
      "loss:  3.0955667\n",
      "loss:  3.0934012\n",
      "loss:  3.0912485\n",
      "loss:  3.089104\n",
      "loss:  3.0869682\n",
      "loss:  3.084841\n",
      "loss:  3.082721\n"
     ]
    }
   ],
   "source": [
    "for epoch in range(100):\n",
    "    with tf.GradientTape() as tape:\n",
    "        loss = loss_fn(model, x_train_, y_train_)\n",
    "    grads = tape.gradient(loss, model.variables)\n",
    "    \n",
    "    if (epoch+1) % 5 == 0:\n",
    "        print(\"loss: \", tf.reduce_sum(loss).numpy())\n",
    "    optimizer.apply_gradients(zip(grads, model.variables))"
   ]
  },
  {
   "cell_type": "code",
   "execution_count": 8,
   "metadata": {},
   "outputs": [
    {
     "data": {
      "image/png": "[encoded data removed]",
      "text/plain": [
       "<Figure size 432x288 with 1 Axes>"
      ]
     },
     "metadata": {
      "needs_background": "light"
     },
     "output_type": "display_data"
    }
   ],
   "source": [
    "predicted = model(x_train_).numpy()\n",
    "plt.plot(x_train, y_train, \"ro\", label=\"original data\")\n",
    "plt.plot(x_train_, predicted, label=\"Fitted line\")\n",
    "plt.legend()\n",
    "plt.show()"
   ]
  },
  {
   "cell_type": "code",
   "execution_count": null,
   "metadata": {},
   "outputs": [],
   "source": []
  }
 ],
 "metadata": {
  "kernelspec": {
   "display_name": "Python 3",
   "language": "python",
   "name": "python3"
  },
  "language_info": {
   "codemirror_mode": {
    "name": "ipython",
    "version": 3
   },
   "file_extension": ".py",
   "mimetype": "text/x-python",
   "name": "python",
   "nbconvert_exporter": "python",
   "pygments_lexer": "ipython3",
   "version": "3.6.8"
  },
  "latex_envs": {
   "LaTeX_envs_menu_present": true,
   "autoclose": false,
   "autocomplete": true,
   "bibliofile": "biblio.bib",
   "cite_by": "apalike",
   "current_citInitial": 1,
   "eqLabelWithNumbers": true,
   "eqNumInitial": 1,
   "hotkeys": {
    "equation": "Ctrl-E",
    "itemize": "Ctrl-I"
   },
   "labels_anchors": false,
   "latex_user_defs": false,
   "report_style_numbering": false,
   "user_envs_cfg": false
  }
 },
 "nbformat": 4,
 "nbformat_minor": 2
}
