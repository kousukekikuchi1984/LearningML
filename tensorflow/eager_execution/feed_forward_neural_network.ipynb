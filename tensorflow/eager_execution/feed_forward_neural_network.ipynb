{
 "cells": [
  {
   "cell_type": "code",
   "execution_count": 1,
   "metadata": {},
   "outputs": [
    {
     "data": {
      "text/plain": [
       "True"
      ]
     },
     "execution_count": 1,
     "metadata": {},
     "output_type": "execute_result"
    }
   ],
   "source": [
    "import numpy as np\n",
    "import tensorflow as tf\n",
    "import matplotlib.pyplot as plt\n",
    "%matplotlib inline\n",
    "\n",
    "tf.enable_eager_execution()\n",
    "tf.executing_eagerly()\n"
   ]
  },
  {
   "cell_type": "code",
   "execution_count": 2,
   "metadata": {},
   "outputs": [],
   "source": [
    "tfe = tf.contrib.eager\n",
    "L = tf.keras.layers"
   ]
  },
  {
   "cell_type": "code",
   "execution_count": 4,
   "metadata": {},
   "outputs": [],
   "source": [
    "def toy_data():\n",
    "    x = np.linspace(-2, 2, 100).reshape(-1, 1)\n",
    "    a1 = -3\n",
    "    a2 = -2\n",
    "    a3 = 2\n",
    "    b = 1\n",
    "    y = a1*x + a2*x**2 + a3*x**3 + 3*np.random.randn(100, 1)\n",
    "    return x, y\n",
    "\n",
    "x, y = toy_data()"
   ]
  },
  {
   "cell_type": "code",
   "execution_count": 5,
   "metadata": {},
   "outputs": [
    {
     "data": {
      "text/plain": [
       "[<matplotlib.lines.Line2D at 0x1c31e64208>]"
      ]
     },
     "execution_count": 5,
     "metadata": {},
     "output_type": "execute_result"
    },
    {
     "data": {
      "image/png": "[encoded data removed]",
      "text/plain": [
       "<Figure size 432x288 with 1 Axes>"
      ]
     },
     "metadata": {
      "needs_background": "light"
     },
     "output_type": "display_data"
    }
   ],
   "source": [
    "plt.plot(x, y, \"bo\")"
   ]
  },
  {
   "cell_type": "code",
   "execution_count": 6,
   "metadata": {},
   "outputs": [],
   "source": [
    "x_train = tf.convert_to_tensor(x, dtype=tf.float32)\n",
    "y_train = tf.convert_to_tensor(y, dtype=tf.float32)"
   ]
  },
  {
   "cell_type": "code",
   "execution_count": 7,
   "metadata": {},
   "outputs": [],
   "source": [
    "learning_rate = 1e-4\n",
    "hidden_size = 10\n",
    "\n",
    "model_relu = tf.keras.Sequential([\n",
    "    L.Dense(hidden_size, activation=\"relu\"),\n",
    "    L.Dense(hidden_size, activation=\"relu\"),\n",
    "    L.Dense(1),\n",
    "])\n",
    "\n",
    "model_tanh = tf.keras.Sequential([\n",
    "    L.Dense(hidden_size, activation=\"tanh\"),\n",
    "    L.Dense(hidden_size, activation=\"tanh\"),\n",
    "    L.Dense(1),\n",
    "])\n",
    "\n",
    "def loss_fn(model, x, y):\n",
    "    y_ = model(x)\n",
    "    return tf.keras.losses.mean_squared_error(y, y_)\n",
    "\n",
    "optimizer = tf.train.GradientDescentOptimizer(learning_rate)\n"
   ]
  },
  {
   "cell_type": "code",
   "execution_count": 11,
   "metadata": {},
   "outputs": [
    {
     "name": "stdout",
     "output_type": "stream",
     "text": [
      "epoch:  100\n",
      "loss_relu: 7.537586212158203\n",
      "loss_tanh: 7.226580619812012\n",
      "epoch:  200\n",
      "loss_relu: 7.547873020172119\n",
      "loss_tanh: 7.226006984710693\n",
      "epoch:  300\n",
      "loss_relu: 7.476791858673096\n",
      "loss_tanh: 7.225441932678223\n",
      "epoch:  400\n",
      "loss_relu: 7.5058817863464355\n",
      "loss_tanh: 7.224884033203125\n",
      "epoch:  500\n",
      "loss_relu: 7.527679920196533\n",
      "loss_tanh: 7.224332332611084\n",
      "epoch:  600\n",
      "loss_relu: 7.535670757293701\n",
      "loss_tanh: 7.223789215087891\n",
      "epoch:  700\n",
      "loss_relu: 7.499844551086426\n",
      "loss_tanh: 7.223252773284912\n",
      "epoch:  800\n",
      "loss_relu: 7.504417896270752\n",
      "loss_tanh: 7.222722053527832\n",
      "epoch:  900\n",
      "loss_relu: 7.399320602416992\n",
      "loss_tanh: 7.22219705581665\n",
      "epoch:  1000\n",
      "loss_relu: 7.405355453491211\n",
      "loss_tanh: 7.221677780151367\n"
     ]
    }
   ],
   "source": [
    "for i in range(1000):\n",
    "    with tf.GradientTape(persistent=True) as tape:\n",
    "        loss_relu = loss_fn(model_relu, x_train, y_train)\n",
    "        loss_tanh = loss_fn(model_tanh, x_train, y_train)\n",
    "        \n",
    "    grads_relu = tape.gradient(loss_relu, model_relu.variables)\n",
    "    grads_tanh = tape.gradient(loss_tanh, model_tanh.variables)\n",
    "    #\n",
    "    optimizer.apply_gradients(zip(grads_relu, model_relu.variables))\n",
    "    optimizer.apply_gradients(zip(grads_tanh, model_tanh.variables))\n",
    "    \n",
    "    if (i+1) % 100 == 0:\n",
    "        print(\"epoch: \", i+1)\n",
    "        print(\"loss_relu: {}\".format(loss_relu.numpy().mean()))\n",
    "        print(\"loss_tanh: {}\".format(loss_tanh.numpy().mean()))\n",
    "        "
   ]
  },
  {
   "cell_type": "code",
   "execution_count": 12,
   "metadata": {},
   "outputs": [],
   "source": [
    "y_predict_relu = model_relu(x_train).numpy()\n",
    "y_predict_tanh = model_tanh(x_train).numpy()"
   ]
  },
  {
   "cell_type": "code",
   "execution_count": null,
   "metadata": {},
   "outputs": [],
   "source": [
    "plt.plot(x, y, \"bo\", alpha=0.3)\n",
    "p"
   ]
  }
 ],
 "metadata": {
  "kernelspec": {
   "display_name": "Python 3",
   "language": "python",
   "name": "python3"
  },
  "language_info": {
   "codemirror_mode": {
    "name": "ipython",
    "version": 3
   },
   "file_extension": ".py",
   "mimetype": "text/x-python",
   "name": "python",
   "nbconvert_exporter": "python",
   "pygments_lexer": "ipython3",
   "version": "3.6.8"
  },
  "latex_envs": {
   "LaTeX_envs_menu_present": true,
   "autoclose": false,
   "autocomplete": true,
   "bibliofile": "biblio.bib",
   "cite_by": "apalike",
   "current_citInitial": 1,
   "eqLabelWithNumbers": true,
   "eqNumInitial": 1,
   "hotkeys": {
    "equation": "Ctrl-E",
    "itemize": "Ctrl-I"
   },
   "labels_anchors": false,
   "latex_user_defs": false,
   "report_style_numbering": false,
   "user_envs_cfg": false
  }
 },
 "nbformat": 4,
 "nbformat_minor": 2
}
