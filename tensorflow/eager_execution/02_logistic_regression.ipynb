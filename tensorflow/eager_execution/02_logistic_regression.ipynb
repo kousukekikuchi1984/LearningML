{
 "cells": [
  {
   "cell_type": "code",
   "execution_count": 1,
   "metadata": {},
   "outputs": [],
   "source": [
    "import tensorflow as tf\n",
    "import numpy as np\n",
    "import matplotlib.pyplot as plt\n",
    "%matplotlib inline\n",
    "\n",
    "tf.enable_eager_execution()\n",
    "tf.executing_eagerly()\n",
    "L = tf.keras.layers\n",
    "tfe = tf.contrib.eager"
   ]
  },
  {
   "cell_type": "code",
   "execution_count": 2,
   "metadata": {},
   "outputs": [],
   "source": [
    "x_train_p = np.random.randn(20, 2) + 0.9\n",
    "x_train_n = np.random.randn(20, 2) - 0.9\n",
    "\n",
    "x_train = np.vstack([x_train_p, x_train_n])\n",
    "y_train = np.array([1] * 20 + [0] * 20).reshape(-1, 1)\n"
   ]
  },
  {
   "cell_type": "code",
   "execution_count": 3,
   "metadata": {},
   "outputs": [
    {
     "data": {
      "text/plain": [
       "[<matplotlib.lines.Line2D at 0x110d121d0>]"
      ]
     },
     "execution_count": 3,
     "metadata": {},
     "output_type": "execute_result"
    },
    {
     "data": {
      "image/png": "[encoded data removed]",
      "text/plain": [
       "<Figure size 432x288 with 1 Axes>"
      ]
     },
     "metadata": {
      "needs_background": "light"
     },
     "output_type": "display_data"
    }
   ],
   "source": [
    "plt.plot(x_train_p[:, 0], x_train_p[:, 1], \"ro\")\n",
    "plt.plot(x_train_n[:, 0], x_train_n[:, 1], \"bo\")"
   ]
  },
  {
   "cell_type": "code",
   "execution_count": 4,
   "metadata": {},
   "outputs": [],
   "source": [
    "# convert to tensor\n",
    "x_train_ = tf.convert_to_tensor(x_train, dtype=tf.float32)\n",
    "y_train_ = tf.convert_to_tensor(y_train, dtype=tf.float32)"
   ]
  },
  {
   "cell_type": "code",
   "execution_count": 5,
   "metadata": {},
   "outputs": [],
   "source": [
    "model = L.Dense(1, activation=\"sigmoid\")\n",
    "\n",
    "def loss_fn(model, x, y):\n",
    "    predict_y = model(x)\n",
    "    return tf.keras.losses.binary_crossentropy(y, predict_y)\n",
    "\n",
    "def accuracy_fn(model, x, y):\n",
    "    predict_y = model(x)\n",
    "    return tf.keras.metrics.binary_crossentropy(y, predict_y)\n",
    "\n",
    "optimizer = tf.train.GradientDescentOptimizer(learning_rate=0.0001)"
   ]
  },
  {
   "cell_type": "code",
   "execution_count": 6,
   "metadata": {},
   "outputs": [
    {
     "data": {
      "text/plain": [
       "[-3.5, 3.5, -3.5, 3.5]"
      ]
     },
     "execution_count": 6,
     "metadata": {},
     "output_type": "execute_result"
    },
    {
     "data": {
      "image/png": "[encoded data removed]",
      "text/plain": [
       "<Figure size 432x288 with 1 Axes>"
      ]
     },
     "metadata": {
      "needs_background": "light"
     },
     "output_type": "display_data"
    }
   ],
   "source": [
    "model(x_train_)\n",
    "coeffs = model.weights[0].numpy()\n",
    "bias = model.weights[1].numpy()\n",
    "\n",
    "\n",
    "plt.plot(x_train_p[:, 0], x_train_p[:, 1], 'ro')\n",
    "plt.plot(x_train_n[:, 0], x_train_n[:, 1], 'bo')\n",
    "\n",
    "plot_x = np.array([min(x_train[:,0])-0.5, max(x_train[:,0])+0.5])\n",
    "plot_y = - (bias + coeffs[0]*plot_x) / coeffs[1]\n",
    "plt.plot(plot_x, plot_y, 'g')\n",
    "plt.axis([-3.5, 3.5, -3.5, 3.5])"
   ]
  },
  {
   "cell_type": "code",
   "execution_count": null,
   "metadata": {},
   "outputs": [],
   "source": [
    "for epoch in range(10000):\n",
    "    with tf.GradientTape() as tape:\n",
    "        loss = loss_fn(model, x_train_, y_train_)\n",
    "    grads = tape.gradient(loss, model.variables)\n",
    "    \n",
    "    accuracy = accuracy_fn(model=model, x=x_train_, y=y_train_)\n",
    "    \n",
    "    if (epoch+1) % 5 == 0:\n",
    "        print(\n",
    "            \"loss: {:0.3f}, acc: {}\".format(\n",
    "                tf.reduce_sum(loss).numpy(),\n",
    "                \n",
    "            )\n",
    "        )"
   ]
  }
 ],
 "metadata": {
  "kernelspec": {
   "display_name": "Python 3",
   "language": "python",
   "name": "python3"
  },
  "language_info": {
   "codemirror_mode": {
    "name": "ipython",
    "version": 3
   },
   "file_extension": ".py",
   "mimetype": "text/x-python",
   "name": "python",
   "nbconvert_exporter": "python",
   "pygments_lexer": "ipython3",
   "version": "3.6.8"
  },
  "latex_envs": {
   "LaTeX_envs_menu_present": true,
   "autoclose": false,
   "autocomplete": true,
   "bibliofile": "biblio.bib",
   "cite_by": "apalike",
   "current_citInitial": 1,
   "eqLabelWithNumbers": true,
   "eqNumInitial": 1,
   "hotkeys": {
    "equation": "Ctrl-E",
    "itemize": "Ctrl-I"
   },
   "labels_anchors": false,
   "latex_user_defs": false,
   "report_style_numbering": false,
   "user_envs_cfg": false
  }
 },
 "nbformat": 4,
 "nbformat_minor": 2
}
