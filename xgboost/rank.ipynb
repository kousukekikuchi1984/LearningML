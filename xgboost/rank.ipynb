{
 "cells": [
  {
   "cell_type": "code",
   "execution_count": 10,
   "metadata": {},
   "outputs": [],
   "source": [
    "import xgboost as xgb\n",
    "import pandas as pd\n",
    "import matplotlib.pyplot as plta\n",
    "from sklearn.datasets import load_svmlight_file\n",
    "from xgboost import DMatrix"
   ]
  },
  {
   "cell_type": "code",
   "execution_count": 5,
   "metadata": {},
   "outputs": [],
   "source": [
    "# data collection\n",
    "x_train, y_train = load_svmlight_file(\"mq2008.train\")\n",
    "x_valid, y_valid = load_svmlight_file(\"mq2008.vali\")\n",
    "x_test, y_test = load_svmlight_file(\"mq2008.test\")\n"
   ]
  },
  {
   "cell_type": "code",
   "execution_count": 8,
   "metadata": {},
   "outputs": [],
   "source": [
    "# data preprocessing\n",
    "def create_group(filename):\n",
    "    group = []\n",
    "    with open(filename, \"r\") as f:\n",
    "        lines = f.readlines()\n",
    "        for line in lines:\n",
    "            group.append( int( line.split(\"\\n\")[0] ) )\n",
    "    return group\n",
    "\n",
    "group_train = create_group(\"mq2008.train.group\")\n",
    "group_valid = create_group(\"mq2008.vali.group\")\n",
    "group_test  = create_group(\"mq2008.test.group\")"
   ]
  },
  {
   "cell_type": "code",
   "execution_count": 11,
   "metadata": {},
   "outputs": [],
   "source": [
    "# Convert to DMatrix format\n",
    "train_dmatrix = DMatrix(x_train, y_train)\n",
    "valid_dmatrix = DMatrix(x_valid, y_valid)\n",
    "test_dmatrix  = DMatrix(x_test)\n",
    "\n",
    "train_dmatrix.set_group(group_train)\n",
    "valid_dmatrix.set_group(group_valid)"
   ]
  },
  {
   "cell_type": "code",
   "execution_count": null,
   "metadata": {},
   "outputs": [],
   "source": [
    "# train\n",
    "params = {'objective': 'rank:pairwise', \n",
    "                'eta': 0.1, \n",
    "              'gamma': 1.0,               \n",
    "   'min_child_weight': 0.1, \n",
    "          'max_depth': 6,\n",
    "}\n",
    "xgb_model = xgb.train(params, train_dmatrix, num_boost_round=4, evals=[])"
   ]
  }
 ],
 "metadata": {
  "kernelspec": {
   "display_name": "Python 3",
   "language": "python",
   "name": "python3"
  },
  "language_info": {
   "codemirror_mode": {
    "name": "ipython",
    "version": 3
   },
   "file_extension": ".py",
   "mimetype": "text/x-python",
   "name": "python",
   "nbconvert_exporter": "python",
   "pygments_lexer": "ipython3",
   "version": "3.6.6"
  },
  "latex_envs": {
   "LaTeX_envs_menu_present": true,
   "autoclose": false,
   "autocomplete": true,
   "bibliofile": "biblio.bib",
   "cite_by": "apalike",
   "current_citInitial": 1,
   "eqLabelWithNumbers": true,
   "eqNumInitial": 1,
   "hotkeys": {
    "equation": "Ctrl-E",
    "itemize": "Ctrl-I"
   },
   "labels_anchors": false,
   "latex_user_defs": false,
   "report_style_numbering": false,
   "user_envs_cfg": false
  }
 },
 "nbformat": 4,
 "nbformat_minor": 2
}
